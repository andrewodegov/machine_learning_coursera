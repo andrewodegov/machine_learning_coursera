{
 "cells": [
  {
   "cell_type": "markdown",
   "metadata": {},
   "source": [
    "# Упражнения для решения задачи 2 недели (про кошек)"
   ]
  },
  {
   "cell_type": "markdown",
   "metadata": {},
   "source": [
    "**1** Откройте на чтение файл anaconda.txt."
   ]
  },
  {
   "cell_type": "code",
   "execution_count": null,
   "metadata": {},
   "outputs": [],
   "source": [
    "f = open('E:\\\\Python\\\\Conspect\\\\anaconda.txt')\n",
    "print(0)"
   ]
  },
  {
   "cell_type": "markdown",
   "metadata": {},
   "source": [
    "*Подсказка*\n",
    "\n",
    "Используйте функцию open(). https://pythonworld.ru/tipy-dannyx-v-python/fajly-rabota-s-fajlami.html\n",
    "    \n",
    "<hr>"
   ]
  },
  {
   "cell_type": "markdown",
   "metadata": {},
   "source": [
    "**2** пройдите по каждой строке открывшегося файла в цикле. Чтобы убедиться что вы идёте по строке выведите её на печать.\n",
    "Чтобы убедиться что каждая строка выводится на 1 шаг цикла выведите на печать разделитесь на новой строке (например, \"____\")"
   ]
  },
  {
   "cell_type": "code",
   "execution_count": null,
   "metadata": {},
   "outputs": [],
   "source": [
    "for line in f:\n",
    "    print(\"____\"+line)\n",
    "#f.seek(0)"
   ]
  },
  {
   "cell_type": "markdown",
   "metadata": {},
   "source": [
    "*Подсказка*\n",
    "\n",
    "Не обязательно использовать readlines(). Можно просто в цикле идти по всем элементам файла f.\n",
    "\n",
    "<code>for line in f:\n",
    "\n",
    "    #ваш код\n",
    "</code>\n",
    "\n",
    "<hr>"
   ]
  },
  {
   "cell_type": "markdown",
   "metadata": {},
   "source": [
    "**3** Для строки string примените функцию lower() для приведения к нижнему регистру. Чтобы убедиться в результате выведите её на печать."
   ]
  },
  {
   "cell_type": "code",
   "execution_count": null,
   "metadata": {},
   "outputs": [],
   "source": [
    "string = \"Справка. Выдана магазином № 8 иностранцу с табуреткой. Подтверждается, что слона он купил в нашем магазине. Покупайте наших слонов!\"\n",
    "#ваш код\n",
    "print(string.lower())"
   ]
  },
  {
   "cell_type": "markdown",
   "metadata": {},
   "source": [
    "*Подсказка*\n",
    "\n",
    "http://pythonz.net/references/named/str.lower/\n",
    "    \n",
    "<hr>"
   ]
  },
  {
   "cell_type": "markdown",
   "metadata": {},
   "source": [
    "**4** повторите код пункта 2, но приведите каждую строку к нижнему регистру с помощью lower()"
   ]
  },
  {
   "cell_type": "code",
   "execution_count": null,
   "metadata": {},
   "outputs": [],
   "source": [
    "for line in f:\n",
    "    print(\"____\"+line.lower())\n",
    "f.seek(0)"
   ]
  },
  {
   "cell_type": "markdown",
   "metadata": {},
   "source": [
    "<hr>"
   ]
  },
  {
   "cell_type": "markdown",
   "metadata": {},
   "source": [
    "**5** Загрузите модуль re.\n",
    "\n",
    "Разбейте строку string на отдельные слова с помощью re.split('[^a-z]', string). Результат (список) выведите на печать."
   ]
  },
  {
   "cell_type": "code",
   "execution_count": null,
   "metadata": {},
   "outputs": [],
   "source": [
    "import re\n",
    "string = \"Anaconda is an unincorporated community in Franklin County, Missouri, in the United States.\"\n",
    "print(re.split('[^a-z]', string))"
   ]
  },
  {
   "cell_type": "markdown",
   "metadata": {},
   "source": [
    "**6** Повторите код пункта 4, но после приведения к нижнему регистру разбейте строку на слова с помощью re.split и выведите на печать список слов каждой строки."
   ]
  },
  {
   "cell_type": "code",
   "execution_count": null,
   "metadata": {},
   "outputs": [],
   "source": [
    "for line in f:\n",
    "    print(re.split('[^a-z]', \"____\"+line.lower()))\n",
    "    \n",
    "    "
   ]
  },
  {
   "cell_type": "markdown",
   "metadata": {},
   "source": [
    "<hr>"
   ]
  },
  {
   "cell_type": "markdown",
   "metadata": {},
   "source": [
    "**7** Создайте пустой список L"
   ]
  },
  {
   "cell_type": "code",
   "execution_count": null,
   "metadata": {},
   "outputs": [],
   "source": [
    "L =[]"
   ]
  },
  {
   "cell_type": "markdown",
   "metadata": {},
   "source": [
    "*Подсказка*\n",
    "\n",
    "https://pythonworld.ru/tipy-dannyx-v-python/spiski-list-funkcii-i-metody-spiskov.html\n",
    "    \n",
    "<hr>"
   ]
  },
  {
   "cell_type": "markdown",
   "metadata": {},
   "source": [
    "**8** Добавьте в список L списки L1 и L2. Выведите результат на печать. Убедитесь, что вы получили список списков, а не список отдельных элементов."
   ]
  },
  {
   "cell_type": "code",
   "execution_count": null,
   "metadata": {},
   "outputs": [],
   "source": [
    "L1 = [1, 2, 3, 4, 5, 6]\n",
    "L2 = ['one', 'two']\n",
    "L.append(L1)\n",
    "L.append(L2)\n",
    "print(L)"
   ]
  },
  {
   "cell_type": "markdown",
   "metadata": {},
   "source": [
    "*Подсказка.*\n",
    "\n",
    "append - https://pythonworld.ru/tipy-dannyx-v-python/spiski-list-funkcii-i-metody-spiskov.html\n",
    "\n",
    "<hr>"
   ]
  },
  {
   "cell_type": "markdown",
   "metadata": {},
   "source": [
    "**9** Объединим всё пройденное:\n",
    "\n",
    "1. Импортируйте модуль re, *задание 5*\n",
    "2. Создайте пустой список L, *задание 7*\n",
    "3. Откройте файл anaconda.txt на чтение (используйте переменную f для сохранения единообразия), *задание 1*\n",
    "4. Пройдите по каждой строке открытого файла в цикле, *задание 2*\n",
    "5. Приведите все символы в строке к нижнему регистру с помощью lower(), *задание 3*\n",
    "6. Разбейте строку на слова с помощью re.split('[^a-z]', string), *задание 5*\n",
    "7. Добавьте получившийся список слов в список L, *задание 8*\n",
    "8. После завершения цикла выведем на печать список L, чтобы убедиться, что это список списков."
   ]
  },
  {
   "cell_type": "code",
   "execution_count": null,
   "metadata": {},
   "outputs": [],
   "source": [
    "import re\n",
    "L = []\n",
    "words = []\n",
    "f = open('E:\\\\Python\\\\Conspect\\\\anaconda.txt')\n",
    "for line in f:\n",
    "    line = line.lower()\n",
    "    line = re.split('[^a-z]', line)\n",
    "    L.append(line)\n",
    "print(L)\n",
    "f.seek(0)"
   ]
  },
  {
   "cell_type": "markdown",
   "metadata": {},
   "source": [
    "<hr>"
   ]
  },
  {
   "cell_type": "markdown",
   "metadata": {},
   "source": [
    "**10** Дополнительное задание.\n",
    "\n",
    "1. Выведите на печать 3 строку списка L\n",
    "2. Выведите на печать 2 слово 3 строки списка L\n",
    "3. Выведите на печать каждое 2 слово каждой строки списка L\n",
    "\n",
    "Убедитесь, что результат соответсвует оригинальнмоу файлу."
   ]
  },
  {
   "cell_type": "code",
   "execution_count": null,
   "metadata": {},
   "outputs": [],
   "source": [
    "print(L[3])"
   ]
  },
  {
   "cell_type": "code",
   "execution_count": null,
   "metadata": {},
   "outputs": [],
   "source": [
    "print(L[3][2])"
   ]
  },
  {
   "cell_type": "code",
   "execution_count": null,
   "metadata": {},
   "outputs": [],
   "source": [
    "print(L[0][::2])"
   ]
  },
  {
   "cell_type": "markdown",
   "metadata": {},
   "source": [
    "<hr>"
   ]
  },
  {
   "cell_type": "markdown",
   "metadata": {},
   "source": [
    "**11** Удалите все пустые строки из списка example_L"
   ]
  },
  {
   "cell_type": "code",
   "execution_count": null,
   "metadata": {},
   "outputs": [],
   "source": [
    "example_L = ['although', 'the', 'name', 'applies', 'to', 'a', 'group', 'of', 'snakes', '', 'it', 'is', 'often', 'used', 'to', 'refer', 'only', 'to', 'one', 'species', 'in', 'particular', '', 'the', 'common', 'or', 'green', 'anaconda', '', 'eunectes', 'murinus', '', 'which', 'is', 'the', 'largest', 'snake', 'in', 'the', 'world', 'by', 'weight', '', 'and', 'the', 'second', 'longest', '', '', '']\n",
    "example_L = [x for x in example_L if x]\n",
    "print(example_L)"
   ]
  },
  {
   "cell_type": "markdown",
   "metadata": {},
   "source": [
    "*Подсказка. Простейший способ - пройти по списку в цикле:*\n",
    "- создайте пустой список\n",
    "- пройдите по имеющемуся списку в цикле\n",
    "- для каждого элемента списка проверьте равен ли он пустой строке\n",
    "- если не равен, то добавьте в созданный список\n",
    "- При необходимости замените исходный список копией ново заполненного\n",
    "\n",
    "<hr>"
   ]
  },
  {
   "cell_type": "markdown",
   "metadata": {},
   "source": [
    "**ПРИМЕЧАНИЕ** Есть элегантный способ очистить список от пустых элементов с помощью List Comprehensions.\n",
    "\n",
    "<a href=\"https://ru.stackoverflow.com/questions/422461/%D0%A3%D0%B4%D0%B0%D0%BB%D0%B5%D0%BD%D0%B8%D0%B5-%D0%BF%D1%83%D1%81%D1%82%D1%8B%D1%85-%D1%8D%D0%BB%D0%B5%D0%BC%D0%B5%D0%BD%D1%82%D0%BE%D0%B2-%D1%81%D0%BF%D0%B8%D1%81%D0%BA%D0%B0-python\">stackoverflow</a>\n",
    "\n",
    "clear_L = [x for x in example_L if x]\n",
    "\n",
    "Зачем это нужно? List Comprehensions - очень быстрая операция. Значительно более быстрая, чем обычный цикл for.\n",
    "\n",
    "Почему выше я прошу провести операцию в цикле:\n",
    "\n",
    "1. так мне кажется понятнее для начинающих\n",
    "2. помимо добавления\n",
    "\n",
    "<hr>"
   ]
  },
  {
   "cell_type": "markdown",
   "metadata": {},
   "source": [
    "**12** Повторите задание 9, избавшившись от всех пустых строк"
   ]
  },
  {
   "cell_type": "code",
   "execution_count": null,
   "metadata": {},
   "outputs": [],
   "source": [
    "import re\n",
    "L = []\n",
    "words = []\n",
    "f = open('E:\\\\Python\\\\Conspect\\\\anaconda.txt')\n",
    "for line in f:\n",
    "    line = line.lower()\n",
    "    line = re.split('[^a-z]', line)\n",
    "    L.append(line)\n",
    "for lists in L:\n",
    "    lists = [word for word in lists if word]\n",
    "    words.append(lists)\n",
    "print(words)\n"
   ]
  },
  {
   "cell_type": "markdown",
   "metadata": {},
   "source": [
    "<hr>"
   ]
  },
  {
   "cell_type": "markdown",
   "metadata": {},
   "source": [
    "**13** Создайте пустой словарь D.\n",
    "\n",
    "Добавьте каждое слово из списка example_L задания 11 в словарь D в качестве ключа.\n",
    "\n",
    "В качестве значения используйте индекс - т.е. уникальное число (начиная с 0 с шагом 1)"
   ]
  },
  {
   "cell_type": "code",
   "execution_count": null,
   "metadata": {},
   "outputs": [],
   "source": [
    "D = dict()\n",
    "i =0\n",
    "for word in example_L:\n",
    "    if word in D:\n",
    "        continue\n",
    "    else:\n",
    "        D[word] = i\n",
    "        i += 1\n",
    "print(D)\n"
   ]
  },
  {
   "cell_type": "markdown",
   "metadata": {},
   "source": [
    "*Подсказка 1* https://pythonworld.ru/tipy-dannyx-v-python/slovari-dict-funkcii-i-metody-slovarej.html\n",
    "\n",
    "<hr>"
   ]
  },
  {
   "cell_type": "markdown",
   "metadata": {},
   "source": [
    "*Подсказка 2*\n",
    "- создайте переменную счётчик, равную 0\n",
    "- пройдите в цикле по списку аналогично задаче 11\n",
    "- для каждого непустого элемента списка проверьте есть ли он в словаре. На выбор 2 красивых варианта:\n",
    "    - метод поможет dict.get(key, -1)\n",
    "    - key not in dict\n",
    "- если элемент отсутствует, добавьте его в словарь (ключ словаря = элемент, значение словаря = счётчик), учеличьте счётчик на 1.\n",
    "\n",
    "<hr>"
   ]
  },
  {
   "cell_type": "markdown",
   "metadata": {},
   "source": [
    "**14** Самопроверка\n",
    "\n",
    "Выведите на печать длинну очищенного от пробелов списка example_L и созданного словаря D\n",
    "\n",
    "Словарь должен быть короче списка, т.к. в нём нет повторов."
   ]
  },
  {
   "cell_type": "code",
   "execution_count": null,
   "metadata": {},
   "outputs": [],
   "source": [
    "print(len(example_L), len(D))"
   ]
  },
  {
   "cell_type": "markdown",
   "metadata": {},
   "source": [
    "*Подсказка* len()\n",
    "\n",
    "<hr>"
   ]
  },
  {
   "cell_type": "markdown",
   "metadata": {},
   "source": [
    "**15** Самопроверка 2\n",
    "\n",
    "Выведите на печать максимальное значение индекса в словаре. Удостоверьтесь, что оно меньше, чем длинна исходного списка.\n",
    "\n",
    "*Примечание. Если индексы начинаются с 0, то величина максимального индекса должна быть на 1 меньше длины словаря*"
   ]
  },
  {
   "cell_type": "code",
   "execution_count": null,
   "metadata": {},
   "outputs": [],
   "source": [
    "print(max(D.values()))"
   ]
  },
  {
   "cell_type": "markdown",
   "metadata": {},
   "source": [
    "*Подсказка*\n",
    "- values()\n",
    "- max()\n",
    "\n",
    "<hr>"
   ]
  },
  {
   "cell_type": "markdown",
   "metadata": {},
   "source": [
    "**16** Повторите задание 12, создав предварительно пустой словарь. По мере прохода по тексту добавляйте каждое новое слово в словарь с соответсвующим ему индексом."
   ]
  },
  {
   "cell_type": "code",
   "execution_count": null,
   "metadata": {},
   "outputs": [],
   "source": [
    "import re\n",
    "L = []\n",
    "words = []\n",
    "words_count = dict()\n",
    "f = open('E:\\\\Python\\\\Conspect\\\\anaconda.txt')\n",
    "i = 0\n",
    "for line in f:\n",
    "    line = line.lower()\n",
    "    line = re.split('[^a-z]', line)\n",
    "    L.append(line)\n",
    "for lists in L:    \n",
    "    lists = [word for word in lists if word]\n",
    "    for word in lists:\n",
    "        if word not in words_count:\n",
    "            words_count[word] = i\n",
    "            i += 1\n",
    "    words.append(lists)\n",
    "print(words_count)"
   ]
  },
  {
   "cell_type": "markdown",
   "metadata": {},
   "source": [
    "<hr>"
   ]
  },
  {
   "cell_type": "markdown",
   "metadata": {},
   "source": [
    "**17** Импортируйте numpy и создайте матрицу Matrix из 0 размера MхN, где\n",
    "\n",
    "M - число строк в исходном файле\n",
    "\n",
    "N - число слов в словаре"
   ]
  },
  {
   "cell_type": "code",
   "execution_count": null,
   "metadata": {},
   "outputs": [],
   "source": [
    "import numpy as np\n",
    "total_sentences = len(L)\n",
    "total_words = len(words_count)\n",
    "Matrix = np.zeros((total_sentences, total_words))\n",
    "print(Matrix)\n"
   ]
  },
  {
   "cell_type": "markdown",
   "metadata": {},
   "source": [
    "*Подсказка 1* - https://docs.scipy.org/doc/numpy/reference/generated/numpy.zeros.html\n",
    "\n",
    "<hr>"
   ]
  },
  {
   "cell_type": "markdown",
   "metadata": {},
   "source": [
    "*Подсказка 2* число строк исходного текста соответсвует числу списков внутри списка L.\n",
    "\n",
    "<hr>"
   ]
  },
  {
   "cell_type": "markdown",
   "metadata": {},
   "source": [
    "**18** Пройдите по списку списков, полученному в задании 16.\n",
    "\n",
    "Для каждого слова определите его позицию в матрице Matrix, где\n",
    "- i - номер строки матрицы и номер строки исходного текста\n",
    "- j - номер столбца матрицы и номер ИНДЕКСА слова в словаре\n",
    "\n",
    "И запишите в качестве элемента матрицы число вхождений слова в конкретное предложение\n",
    "\n",
    "*Подсказка 1* Необходимо сделать 2 уровневый цикл для прохода по L. 1 уровень - проход по строкам, 2 уровень - проход по словам внутри строки."
   ]
  },
  {
   "cell_type": "markdown",
   "metadata": {},
   "source": [
    "*Подсказка 2* чтобы получить координату строки:\n",
    "- перед началом цикла создайте счётчик, равный 0\n",
    "- закончив чтение последнего слова в строке увеличьте значение счётчика на 1.\n",
    "\n",
    "<hr>"
   ]
  },
  {
   "cell_type": "code",
   "execution_count": null,
   "metadata": {},
   "outputs": [],
   "source": [
    "i = 0\n",
    "for lists in words:\n",
    "    for word in lists:\n",
    "        while i < total_sentences:\n",
    "            Matrix[i][words_count[word]] = lists.count(word)\n",
    "            i +=1\n",
    "print(Matrix)"
   ]
  },
  {
   "cell_type": "markdown",
   "metadata": {},
   "source": [
    "*Подсказка 3* чтобы получить координату столбца возьмите значение из словаря D, соответсвующее ключу-слову. https://pythonworld.ru/tipy-dannyx-v-python/slovari-dict-funkcii-i-metody-slovarej.html\n",
    "\n",
    "<hr>"
   ]
  },
  {
   "cell_type": "markdown",
   "metadata": {},
   "source": [
    "*Подсказка 4* если вы идёте по строке, получая слово за словом, то можно гарантировать:\n",
    "\n",
    "- первый раз когда вы встретите слово в строке, значение в матрице равно 0\n",
    "- при каждой новой встрече слова в строке, значение в матрице увеличивается на 1\n",
    "\n",
    "<hr>"
   ]
  },
  {
   "cell_type": "markdown",
   "metadata": {},
   "source": [
    "**19** Самопроверка 3.\n",
    "\n",
    "Найдите сумму всех чисел в матрице Matrix.\n",
    "\n",
    "**Сравните её с числом ВСЕХ (а не только уникальных) слов в исходном тексте**."
   ]
  },
  {
   "cell_type": "code",
   "execution_count": null,
   "metadata": {
    "collapsed": true
   },
   "outputs": [],
   "source": [
    "#Ваш код"
   ]
  },
  {
   "cell_type": "markdown",
   "metadata": {},
   "source": [
    "<hr>"
   ]
  },
  {
   "cell_type": "markdown",
   "metadata": {},
   "source": [
    "**20** Самопроверка 4\n",
    "\n",
    "Выведите на печать 1 строку матрицы Matrix и 1 строку исходного текста. Что можно сказать о наблюдаемой закономерности?\n",
    "\n",
    "*Примечание* Строка матрицы может быть слишком большой для полного вывода, тогда ограничьте вывод некоторым количеством первых значений."
   ]
  },
  {
   "cell_type": "code",
   "execution_count": null,
   "metadata": {
    "collapsed": true
   },
   "outputs": [],
   "source": [
    "#Ваш код"
   ]
  },
  {
   "cell_type": "markdown",
   "metadata": {},
   "source": [
    "<hr>"
   ]
  },
  {
   "cell_type": "markdown",
   "metadata": {},
   "source": [
    "**21** Самопроверка 5\n",
    "\n",
    "Выведите на печать несколько произвольных строк матрицы Matrix. Убедитесь, что там нет аномально больших значений (помним, что элементы матрицы - количество вхождений слова в строку, а не индекс!)"
   ]
  },
  {
   "cell_type": "code",
   "execution_count": null,
   "metadata": {
    "collapsed": true
   },
   "outputs": [],
   "source": [
    "#Ваш код"
   ]
  },
  {
   "cell_type": "markdown",
   "metadata": {},
   "source": [
    "<hr>"
   ]
  },
  {
   "cell_type": "markdown",
   "metadata": {},
   "source": [
    "**22** Найдите косинусное расстояние между 2 векторами (u,v), используя https://docs.scipy.org/doc/scipy-0.16.1/reference/generated/scipy.spatial.distance.cosine.html:\n",
    "\n",
    "1. u - 0 строка матрицы Matrix, v - 0 строка матрицы Matrix\n",
    "2. u - 0 строка матрицы Matrix, v - 1 строка матрицы Matrix\n",
    "\n",
    "Какие выводы можно сделать о величине косинусного расстояния для \"похожих\" предложений?"
   ]
  },
  {
   "cell_type": "code",
   "execution_count": null,
   "metadata": {
    "collapsed": true
   },
   "outputs": [],
   "source": [
    "#Ваш код"
   ]
  },
  {
   "cell_type": "markdown",
   "metadata": {},
   "source": [
    "<hr>"
   ]
  }
 ],
 "metadata": {
  "kernelspec": {
   "display_name": "Python 3",
   "language": "python",
   "name": "python3"
  },
  "language_info": {
   "codemirror_mode": {
    "name": "ipython",
    "version": 3
   },
   "file_extension": ".py",
   "mimetype": "text/x-python",
   "name": "python",
   "nbconvert_exporter": "python",
   "pygments_lexer": "ipython3",
   "version": "3.7.4"
  }
 },
 "nbformat": 4,
 "nbformat_minor": 1
}
