{
 "cells": [
  {
   "cell_type": "markdown",
   "metadata": {},
   "source": [
    "## Задача размещения баннеров.\n",
    "### Постановка задачи."
   ]
  },
  {
   "cell_type": "markdown",
   "metadata": {},
   "source": [
    "Представим, что международное круизное агентство Carnival Cruise Line решило себя разрекламировать с помощью баннеров и обратилось для этого к вам. Чтобы протестировать, велика ли от таких баннеров польза, их будет размещено всего 20 штук по всему миру. Вам надо выбрать 20 таких локаций для размещения, чтобы польза была большой и агентство продолжило с вами сотрудничать.\n",
    "\n",
    "Агентство крупное, и у него есть несколько офисов по всему миру. Вблизи этих офисов оно и хочет разместить баннеры — легче договариваться и проверять результат. Также эти места должны быть популярны среди туристов.\n",
    "\n",
    "Для поиска оптимальных мест воспользуемся базой данных крупнейшей социальной сети, основанной на локациях — Foursquare.\n",
    "\n",
    "Часть открытых данных есть, например, на сайте archive.org:\n",
    "\n",
    "https://archive.org/details/201309_foursquare_dataset_umn\n",
    "\n",
    "Скачаем любым удобным образом архив fsq.zip с этой страницы.\n",
    "\n",
    "Нас будет интересовать файл checkins.dat. Открыв его, увидим следующую структуру: \n",
    "\n",
    "id | user_id | venue_id | latitude | longitude | created_at\n",
    "\n",
    "---------+---------+----------+-------------------+-------------------+---------------------\n",
    "\n",
    "984301 | 2041916 | 5222 | | | 2012-04-21 17:39:01\n",
    "\n",
    "984222 | 15824 | 5222 | 38.8951118 | -77.0363658 | 2012-04-21 17:43:47\n",
    "\n",
    "984315 | 1764391 | 5222 | | | 2012-04-21 17:37:18\n",
    "\n",
    "984234 | 44652 | 5222 | 33.800745 | -84.41052 | 2012-04-21 17:43:43\n",
    "\n",
    "Для удобной работы с этим документом преобразуем его к формату csv, удалив строки, не содержащие координат — они неинформативны для нас.\n",
    "\n",
    "С помощью pandas построим DataFrame и убедимся, что все 396634 строки с координатами считаны успешно.\n",
    "\n",
    "Теперь необходимо кластеризовать данные координаты, чтобы выявить центры скоплений туристов. Поскольку баннеры имеют сравнительно небольшую площадь действия, нам нужен алгоритм, позволяющий ограничить размер кластера и не зависящий от количества кластеров.\n",
    "\n",
    "Эта задача — хороший повод познакомиться с алгоритмом MeanShift, который мы обошли стороной в основной части лекций. Его описание при желании можно посмотреть в sklearn user guide, а чуть позже появится дополнительное видео с обзором этого и некоторых других алгоритмов кластеризации. Используйте MeanShift, указав bandwidth=0.1, что в переводе из градусов в метры колеблется примерно от 5 до 10 км в средних широтах.\n",
    "\n",
    "Примечание:на 396634 строках кластеризация будет работать долго. Быть очень терпеливым не возбраняется — результат от этого только улучшится. Но для того, чтобы сдать задание, понадобится сабсет из первых 100 тысяч строк. Это компромисс между качеством и затраченным временем. Обучение алгоритма на всём датасете занимает около часа, а на 100 тыс. строк — примерно 2 минуты, однако этого достаточно для получения корректных результатов.\n",
    "\n",
    "Некоторые из получившихся кластеров содержат слишком мало точек — такие кластеры не интересны рекламодателям. Поэтому надо определить, какие из кластеров содержат, скажем, больше 15 элементов. Центры этих кластеров и являются оптимальными для размещения.\n",
    "\n",
    "Как мы помним, 20 баннеров надо разместить близ офисов компании. Найдем на Google Maps по запросу Carnival Cruise Line адреса всех офисов:\n",
    "\n",
    "33.751277, -118.188740 (Los Angeles)\n",
    "\n",
    "25.867736, -80.324116 (Miami)\n",
    "\n",
    "51.503016, -0.075479 (London)\n",
    "\n",
    "52.378894, 4.885084 (Amsterdam)\n",
    "\n",
    "39.366487, 117.036146 (Beijing)\n",
    "\n",
    "-33.868457, 151.205134 (Sydney)\n",
    "\n",
    "Осталось определить 20 ближайших к ним центров кластеров. Т.е. посчитать дистанцию до ближайшего офиса для каждой точки и выбрать 20 с наименьшим значением.\n",
    "\n",
    "Примечание: при подсчете расстояний и в кластеризации можно пренебречь тем, что Земля круглая, так как в точках, расположенных близко друг к другу погрешность мала, а в остальных точках значение достаточно велико.\n",
    "\n",
    "Для сдачи задания выберите из получившихся 20 центров тот, который наименее удален от ближайшего к нему офиса. Ответ в этом задании — широта и долгота этого центра, записанные через пробел."
   ]
  },
  {
   "cell_type": "markdown",
   "metadata": {},
   "source": [
    "### Решение задачи:"
   ]
  },
  {
   "cell_type": "code",
   "execution_count": 1,
   "metadata": {},
   "outputs": [],
   "source": [
    "import warnings\n",
    "warnings.filterwarnings('ignore')\n",
    "\n",
    "import pandas as pd\n",
    "import numpy as np"
   ]
  },
  {
   "cell_type": "code",
   "execution_count": 2,
   "metadata": {},
   "outputs": [],
   "source": [
    "# загрузим таблицу с данными, явно задав тип данных для нужных нам столбцов latitude и longitude. \n",
    "# Это позволит нам найти все неккоректно заполненные значения.\n",
    "data = pd.read_csv('C:\\\\Users\\\\andre\\\\Downloads\\\\fsq\\\\checkins.csv', sep='|', \n",
    "                   skipinitialspace=True, dtype={'latitude': float, 'longitude': float})\n",
    "data.columns = data.columns.str.replace(' ', '')"
   ]
  },
  {
   "cell_type": "code",
   "execution_count": 3,
   "metadata": {},
   "outputs": [
    {
     "data": {
      "text/html": [
       "<div>\n",
       "<style scoped>\n",
       "    .dataframe tbody tr th:only-of-type {\n",
       "        vertical-align: middle;\n",
       "    }\n",
       "\n",
       "    .dataframe tbody tr th {\n",
       "        vertical-align: top;\n",
       "    }\n",
       "\n",
       "    .dataframe thead th {\n",
       "        text-align: right;\n",
       "    }\n",
       "</style>\n",
       "<table border=\"1\" class=\"dataframe\">\n",
       "  <thead>\n",
       "    <tr style=\"text-align: right;\">\n",
       "      <th></th>\n",
       "      <th>id</th>\n",
       "      <th>user_id</th>\n",
       "      <th>venue_id</th>\n",
       "      <th>latitude</th>\n",
       "      <th>longitude</th>\n",
       "      <th>created_at</th>\n",
       "    </tr>\n",
       "  </thead>\n",
       "  <tbody>\n",
       "    <tr>\n",
       "      <td>0</td>\n",
       "      <td>984301</td>\n",
       "      <td>2041916.0</td>\n",
       "      <td>5222.0</td>\n",
       "      <td>NaN</td>\n",
       "      <td>NaN</td>\n",
       "      <td>2012-04-21 17:39:01</td>\n",
       "    </tr>\n",
       "    <tr>\n",
       "      <td>1</td>\n",
       "      <td>984222</td>\n",
       "      <td>15824.0</td>\n",
       "      <td>5222.0</td>\n",
       "      <td>38.895112</td>\n",
       "      <td>-77.036366</td>\n",
       "      <td>2012-04-21 17:43:47</td>\n",
       "    </tr>\n",
       "    <tr>\n",
       "      <td>2</td>\n",
       "      <td>984315</td>\n",
       "      <td>1764391.0</td>\n",
       "      <td>5222.0</td>\n",
       "      <td>NaN</td>\n",
       "      <td>NaN</td>\n",
       "      <td>2012-04-21 17:37:18</td>\n",
       "    </tr>\n",
       "    <tr>\n",
       "      <td>3</td>\n",
       "      <td>984234</td>\n",
       "      <td>44652.0</td>\n",
       "      <td>5222.0</td>\n",
       "      <td>33.800745</td>\n",
       "      <td>-84.410520</td>\n",
       "      <td>2012-04-21 17:43:43</td>\n",
       "    </tr>\n",
       "    <tr>\n",
       "      <td>4</td>\n",
       "      <td>984249</td>\n",
       "      <td>2146840.0</td>\n",
       "      <td>5222.0</td>\n",
       "      <td>NaN</td>\n",
       "      <td>NaN</td>\n",
       "      <td>2012-04-21 17:42:58</td>\n",
       "    </tr>\n",
       "  </tbody>\n",
       "</table>\n",
       "</div>"
      ],
      "text/plain": [
       "       id    user_id  venue_id   latitude  longitude           created_at\n",
       "0  984301  2041916.0    5222.0        NaN        NaN  2012-04-21 17:39:01\n",
       "1  984222    15824.0    5222.0  38.895112 -77.036366  2012-04-21 17:43:47\n",
       "2  984315  1764391.0    5222.0        NaN        NaN  2012-04-21 17:37:18\n",
       "3  984234    44652.0    5222.0  33.800745 -84.410520  2012-04-21 17:43:43\n",
       "4  984249  2146840.0    5222.0        NaN        NaN  2012-04-21 17:42:58"
      ]
     },
     "execution_count": 3,
     "metadata": {},
     "output_type": "execute_result"
    }
   ],
   "source": [
    "data.head()"
   ]
  },
  {
   "cell_type": "code",
   "execution_count": 4,
   "metadata": {},
   "outputs": [],
   "source": [
    "data.dropna(inplace=True)\n",
    "data.reset_index(drop=True, inplace=True)"
   ]
  },
  {
   "cell_type": "code",
   "execution_count": 5,
   "metadata": {},
   "outputs": [],
   "source": [
    "# чтобы ускорить работу алгоритма, возьмем 100 тысяч случайных объектов из выборки и удалим лишние столбцы \n",
    "data = data.sample(100000)\n",
    "data = data.drop(['created_at', 'id', 'user_id', 'venue_id'], axis=1)"
   ]
  },
  {
   "cell_type": "code",
   "execution_count": 6,
   "metadata": {},
   "outputs": [],
   "source": [
    "from sklearn.cluster import MeanShift"
   ]
  },
  {
   "cell_type": "code",
   "execution_count": 7,
   "metadata": {},
   "outputs": [],
   "source": [
    "clusterizator = MeanShift(bandwidth=0.1)"
   ]
  },
  {
   "cell_type": "code",
   "execution_count": 8,
   "metadata": {},
   "outputs": [
    {
     "name": "stdout",
     "output_type": "stream",
     "text": [
      "Wall time: 2min 45s\n"
     ]
    },
    {
     "data": {
      "text/plain": [
       "array([68, 63,  0, ...,  7,  9,  0], dtype=int64)"
      ]
     },
     "execution_count": 8,
     "metadata": {},
     "output_type": "execute_result"
    }
   ],
   "source": [
    "%%time\n",
    "clusters = clusterizator.fit_predict(data)\n",
    "clusters"
   ]
  },
  {
   "cell_type": "code",
   "execution_count": 9,
   "metadata": {},
   "outputs": [],
   "source": [
    "# добавим столбец с результатами кластеризации в исходную таблицу, чтобы было удобнее обрабатывать данные в дальнейшем.\n",
    "data['clusters'] = clusters"
   ]
  },
  {
   "cell_type": "code",
   "execution_count": 10,
   "metadata": {},
   "outputs": [],
   "source": [
    "# найдет максимальный номер кластера\n",
    "max_cluster = data.clusters.max()"
   ]
  },
  {
   "cell_type": "code",
   "execution_count": 11,
   "metadata": {},
   "outputs": [],
   "source": [
    "# и удалим все кластеры, которые содержат до 15 элементов включительно\n",
    "\n",
    "for x in range(max_cluster):\n",
    "    if data[(data['clusters'] ==x)].count()[2] < 16:\n",
    "        indexes = data[(data['clusters'] ==x)].index\n",
    "        data.drop(indexes, inplace=True)\n"
   ]
  },
  {
   "cell_type": "code",
   "execution_count": 19,
   "metadata": {},
   "outputs": [
    {
     "data": {
      "text/plain": [
       "(3651, 2)"
      ]
     },
     "execution_count": 19,
     "metadata": {},
     "output_type": "execute_result"
    }
   ],
   "source": [
    "# извлечем координаты центров каждого кластера\n",
    "centers = clusterizator.cluster_centers_\n",
    "centers.shape"
   ]
  },
  {
   "cell_type": "code",
   "execution_count": 13,
   "metadata": {},
   "outputs": [],
   "source": [
    "# и сохраним их в файл, чтобы визуализировать кластеры с помощью готового инструмента\n",
    "dataset = pd.DataFrame({'Column1': centers[:, 0], 'Column2': centers[:, 1]})\n",
    "dataset.to_csv('centers.csv', index=False)"
   ]
  },
  {
   "cell_type": "code",
   "execution_count": 14,
   "metadata": {},
   "outputs": [],
   "source": [
    "# сохраним координаты офисов, которые даны по условию задачи\n",
    "offices = np.array([\n",
    "    [33.751277, -118.188740],\n",
    "    [25.867736, -80.324116],\n",
    "    [51.503016, -0.075479],\n",
    "    [52.378894, 4.885084],\n",
    "    [39.366487, 117.036146],\n",
    "    [-33.868457, 151.205134]])"
   ]
  },
  {
   "cell_type": "code",
   "execution_count": 15,
   "metadata": {},
   "outputs": [],
   "source": [
    "from scipy.spatial.distance import euclidean"
   ]
  },
  {
   "cell_type": "code",
   "execution_count": 16,
   "metadata": {},
   "outputs": [],
   "source": [
    "# найдем расстояния от центров кластеров до каждого из офисов \n",
    "# и сохраним их в переменную distances вместе с соответствующими координатами: \n",
    "\n",
    "distances = []\n",
    "for x in centers:\n",
    "    k=0\n",
    "    while k < len(offices):\n",
    "        dist = euclidean(x, offices[k])\n",
    "        distances.append((dist, x))\n",
    "        k +=1\n",
    "       \n",
    "        "
   ]
  },
  {
   "cell_type": "code",
   "execution_count": 23,
   "metadata": {},
   "outputs": [
    {
     "data": {
      "text/plain": [
       "[(0.0014416052249948213, array([-33.86713969, 151.2057196 ])),\n",
       " (0.010167671838629787, array([52.3714335 ,  4.89199215])),\n",
       " (0.05172314498122836, array([51.5022206 , -0.12719603])),\n",
       " (0.07436664675266587, array([  33.81163755, -118.14530037])),\n",
       " (0.12127166897598157, array([ 25.90152941, -80.20764788])),\n",
       " (0.13244949716601173, array([5.14056832e+01, 1.43497000e-02])),\n",
       " (0.1342922486772476, array([ 25.78755099, -80.21639055])),\n",
       " (0.14885159278721202, array([52.505    ,  4.9641667])),\n",
       " (0.15329917431339365, array([51.35659493, -0.12088283])),\n",
       " (0.15527519749498295, array([52.28547395,  4.76105545])),\n",
       " (0.17091152470263668, array([52.3080507,  5.0406217])),\n",
       " (0.1719736731634021, array([-33.90847715, 151.0378817 ])),\n",
       " (0.18301232408573287, array([ 26.00364976, -80.20155597])),\n",
       " (0.18869933332347014, array([  33.8931542 , -118.06432819])),\n",
       " (0.21577445361255318, array([  33.87024537, -118.36875428])),\n",
       " (0.24453231546975557, array([52.3802778,  4.6405556])),\n",
       " (0.26681671356123293, array([  33.64284049, -117.94495181])),\n",
       " (0.2738648609326593, array([ 26.14036261, -80.35012931])),\n",
       " (0.28676741978997866, array([52.632281,  4.750806])),\n",
       " (0.2879871465167876, array([-33.7762275, 150.9323148]))]"
      ]
     },
     "execution_count": 23,
     "metadata": {},
     "output_type": "execute_result"
    }
   ],
   "source": [
    "# отсортируем расстояния от большего к меньшему и отберем 20 ближайших к офисам кластеров\n",
    "closest_centers = sorted(distances)[:20]\n",
    "closest_centers"
   ]
  },
  {
   "cell_type": "code",
   "execution_count": 70,
   "metadata": {},
   "outputs": [
    {
     "name": "stdout",
     "output_type": "stream",
     "text": [
      "Coordinates of the closest cluster center to Carnival Cruise Line agency: -33.86713969444442, 151.20571960370384\n"
     ]
    }
   ],
   "source": [
    "# напечатаем координаты ближайшего центра\n",
    "\n",
    "print('Coordinates of the closest cluster center to Carnival Cruise Line agency: {}'\n",
    "      .format(', '.join(list(map(str, closest_centers[0][1])))))"
   ]
  }
 ],
 "metadata": {
  "kernelspec": {
   "display_name": "Python 3",
   "language": "python",
   "name": "python3"
  },
  "language_info": {
   "codemirror_mode": {
    "name": "ipython",
    "version": 3
   },
   "file_extension": ".py",
   "mimetype": "text/x-python",
   "name": "python",
   "nbconvert_exporter": "python",
   "pygments_lexer": "ipython3",
   "version": "3.7.4"
  }
 },
 "nbformat": 4,
 "nbformat_minor": 2
}
